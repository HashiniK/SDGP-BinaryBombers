{
 "cells": [
  {
   "cell_type": "code",
   "execution_count": 8,
   "metadata": {},
   "outputs": [],
   "source": [
    "import pandas as pd\n",
    "import numpy as np\n",
    "from sklearn.metrics.pairwise import cosine_similarity\n",
    "from sklearn.feature_extraction.text import CountVectorizer"
   ]
  },
  {
   "cell_type": "code",
   "execution_count": 19,
   "metadata": {},
   "outputs": [
    {
     "data": {
      "text/html": [
       "<div>\n",
       "<style scoped>\n",
       "    .dataframe tbody tr th:only-of-type {\n",
       "        vertical-align: middle;\n",
       "    }\n",
       "\n",
       "    .dataframe tbody tr th {\n",
       "        vertical-align: top;\n",
       "    }\n",
       "\n",
       "    .dataframe thead th {\n",
       "        text-align: right;\n",
       "    }\n",
       "</style>\n",
       "<table border=\"1\" class=\"dataframe\">\n",
       "  <thead>\n",
       "    <tr style=\"text-align: right;\">\n",
       "      <th></th>\n",
       "      <th>id</th>\n",
       "      <th>package</th>\n",
       "      <th>product_desc</th>\n",
       "      <th>deducted_amt</th>\n",
       "      <th>event_time_stamp</th>\n",
       "      <th>connection_age</th>\n",
       "      <th>gender</th>\n",
       "      <th>age</th>\n",
       "      <th>dateval</th>\n",
       "    </tr>\n",
       "  </thead>\n",
       "  <tbody>\n",
       "    <tr>\n",
       "      <th>0</th>\n",
       "      <td>52671547813691168</td>\n",
       "      <td>WAKEUP</td>\n",
       "      <td>Wake_up_call</td>\n",
       "      <td>1.23</td>\n",
       "      <td>2020-05-12 10:14:57</td>\n",
       "      <td>3768</td>\n",
       "      <td>0</td>\n",
       "      <td>37</td>\n",
       "      <td>2020-05-12</td>\n",
       "    </tr>\n",
       "    <tr>\n",
       "      <th>1</th>\n",
       "      <td>55993477747811320</td>\n",
       "      <td>CRBT_CNT</td>\n",
       "      <td>crbt_cnt_ren_Daily</td>\n",
       "      <td>3.68</td>\n",
       "      <td>2020-05-12 04:52:43</td>\n",
       "      <td>2755</td>\n",
       "      <td>0</td>\n",
       "      <td>36</td>\n",
       "      <td>2020-05-12</td>\n",
       "    </tr>\n",
       "    <tr>\n",
       "      <th>2</th>\n",
       "      <td>55993477747811320</td>\n",
       "      <td>CRBT_SRV</td>\n",
       "      <td>crbt_srv_ren_Daily</td>\n",
       "      <td>2.45</td>\n",
       "      <td>2020-05-12 03:42:44</td>\n",
       "      <td>2755</td>\n",
       "      <td>0</td>\n",
       "      <td>36</td>\n",
       "      <td>2020-05-12</td>\n",
       "    </tr>\n",
       "    <tr>\n",
       "      <th>3</th>\n",
       "      <td>52671565671173152</td>\n",
       "      <td>CRBT_SRV</td>\n",
       "      <td>crbt_srv_ren_Daily</td>\n",
       "      <td>2.45</td>\n",
       "      <td>2020-05-12 03:44:09</td>\n",
       "      <td>3764</td>\n",
       "      <td>1</td>\n",
       "      <td>57</td>\n",
       "      <td>2020-05-12</td>\n",
       "    </tr>\n",
       "  </tbody>\n",
       "</table>\n",
       "</div>"
      ],
      "text/plain": [
       "                  id   package        product_desc  deducted_amt  \\\n",
       "0  52671547813691168    WAKEUP        Wake_up_call          1.23   \n",
       "1  55993477747811320  CRBT_CNT  crbt_cnt_ren_Daily          3.68   \n",
       "2  55993477747811320  CRBT_SRV  crbt_srv_ren_Daily          2.45   \n",
       "3  52671565671173152  CRBT_SRV  crbt_srv_ren_Daily          2.45   \n",
       "\n",
       "      event_time_stamp  connection_age  gender  age     dateval  \n",
       "0  2020-05-12 10:14:57            3768       0   37  2020-05-12  \n",
       "1  2020-05-12 04:52:43            2755       0   36  2020-05-12  \n",
       "2  2020-05-12 03:42:44            2755       0   36  2020-05-12  \n",
       "3  2020-05-12 03:44:09            3764       1   57  2020-05-12  "
      ]
     },
     "execution_count": 19,
     "metadata": {},
     "output_type": "execute_result"
    }
   ],
   "source": [
    "#Load the dataset\n",
    "df = pd.read_csv('SampleData-Mobitel.csv')\n",
    "df.head(4)"
   ]
  },
  {
   "cell_type": "code",
   "execution_count": 20,
   "metadata": {},
   "outputs": [
    {
     "data": {
      "text/plain": [
       "(10000, 9)"
      ]
     },
     "execution_count": 20,
     "metadata": {},
     "output_type": "execute_result"
    }
   ],
   "source": [
    "#Get the number of rows and number of columns\n",
    "df.shape"
   ]
  },
  {
   "cell_type": "code",
   "execution_count": 35,
   "metadata": {},
   "outputs": [],
   "source": [
    "#Create a list of important columns for the recommendation engine\n",
    "columns = ['id','package','age','gender','deducted_amt']"
   ]
  },
  {
   "cell_type": "code",
   "execution_count": 60,
   "metadata": {},
   "outputs": [
    {
     "data": {
      "text/html": [
       "<div>\n",
       "<style scoped>\n",
       "    .dataframe tbody tr th:only-of-type {\n",
       "        vertical-align: middle;\n",
       "    }\n",
       "\n",
       "    .dataframe tbody tr th {\n",
       "        vertical-align: top;\n",
       "    }\n",
       "\n",
       "    .dataframe thead th {\n",
       "        text-align: right;\n",
       "    }\n",
       "</style>\n",
       "<table border=\"1\" class=\"dataframe\">\n",
       "  <thead>\n",
       "    <tr style=\"text-align: right;\">\n",
       "      <th></th>\n",
       "      <th>id</th>\n",
       "      <th>package</th>\n",
       "      <th>age</th>\n",
       "      <th>gender</th>\n",
       "      <th>deducted_amt</th>\n",
       "    </tr>\n",
       "  </thead>\n",
       "  <tbody>\n",
       "    <tr>\n",
       "      <th>0</th>\n",
       "      <td>52671547813691168</td>\n",
       "      <td>WAKEUP</td>\n",
       "      <td>37</td>\n",
       "      <td>0</td>\n",
       "      <td>1.23</td>\n",
       "    </tr>\n",
       "    <tr>\n",
       "      <th>1</th>\n",
       "      <td>55993477747811320</td>\n",
       "      <td>CRBT_CNT</td>\n",
       "      <td>36</td>\n",
       "      <td>0</td>\n",
       "      <td>3.68</td>\n",
       "    </tr>\n",
       "    <tr>\n",
       "      <th>2</th>\n",
       "      <td>55993477747811320</td>\n",
       "      <td>CRBT_SRV</td>\n",
       "      <td>36</td>\n",
       "      <td>0</td>\n",
       "      <td>2.45</td>\n",
       "    </tr>\n",
       "    <tr>\n",
       "      <th>3</th>\n",
       "      <td>52671565671173152</td>\n",
       "      <td>CRBT_SRV</td>\n",
       "      <td>57</td>\n",
       "      <td>1</td>\n",
       "      <td>2.45</td>\n",
       "    </tr>\n",
       "    <tr>\n",
       "      <th>4</th>\n",
       "      <td>55993499054455256</td>\n",
       "      <td>B2W</td>\n",
       "      <td>53</td>\n",
       "      <td>1</td>\n",
       "      <td>6.13</td>\n",
       "    </tr>\n",
       "  </tbody>\n",
       "</table>\n",
       "</div>"
      ],
      "text/plain": [
       "                  id   package  age  gender  deducted_amt\n",
       "0  52671547813691168    WAKEUP   37       0          1.23\n",
       "1  55993477747811320  CRBT_CNT   36       0          3.68\n",
       "2  55993477747811320  CRBT_SRV   36       0          2.45\n",
       "3  52671565671173152  CRBT_SRV   57       1          2.45\n",
       "4  55993499054455256       B2W   53       1          6.13"
      ]
     },
     "execution_count": 60,
     "metadata": {},
     "output_type": "execute_result"
    }
   ],
   "source": [
    "df[columns].head(5)"
   ]
  },
  {
   "cell_type": "code",
   "execution_count": 37,
   "metadata": {},
   "outputs": [
    {
     "data": {
      "text/plain": [
       "False"
      ]
     },
     "execution_count": 37,
     "metadata": {},
     "output_type": "execute_result"
    }
   ],
   "source": [
    "#Check for any missing values in the important columns\n",
    "df[columns].isnull().values.any()"
   ]
  },
  {
   "cell_type": "code",
   "execution_count": 25,
   "metadata": {},
   "outputs": [],
   "source": [
    "# def get_important_features(data):\n",
    "#     important_features = []\n",
    "#     for i in range(0, data.shape[0]):\n",
    "#         important_features.append(data['age'][i] + ' ' + data['gender'][i] + ' ' + data['deducted_amt'][i])\n",
    "#     return important_features   \n",
    "\n",
    "# df['important_features'] = get_important_features(df)"
   ]
  },
  {
   "cell_type": "code",
   "execution_count": 38,
   "metadata": {},
   "outputs": [
    {
     "data": {
      "text/plain": [
       "package\n",
       "AOZM    48.571429\n",
       "APIG    47.892989\n",
       "ASTV    41.545455\n",
       "AWDS    36.631579\n",
       "B2W     42.501577\n",
       "Name: age, dtype: float64"
      ]
     },
     "execution_count": 38,
     "metadata": {},
     "output_type": "execute_result"
    }
   ],
   "source": [
    "#Average age of each package\n",
    "df.groupby('package')['age'].mean().head()"
   ]
  },
  {
   "cell_type": "code",
   "execution_count": 39,
   "metadata": {},
   "outputs": [
    {
     "data": {
      "text/plain": [
       "package\n",
       "PLPL    69.000000\n",
       "SMMD    58.500000\n",
       "LOT     56.333333\n",
       "STYO    52.666667\n",
       "PASA    52.636364\n",
       "Name: age, dtype: float64"
      ]
     },
     "execution_count": 39,
     "metadata": {},
     "output_type": "execute_result"
    }
   ],
   "source": [
    "#Sort the mean values of age\n",
    "df.groupby('package')['age'].mean().sort_values(ascending=False).head()"
   ]
  },
  {
   "cell_type": "code",
   "execution_count": 40,
   "metadata": {},
   "outputs": [
    {
     "data": {
      "text/plain": [
       "package\n",
       "CRBT_CNT    2313\n",
       "CRBT_SRV    2181\n",
       "MZIP         612\n",
       "CLT          476\n",
       "MHUNG        357\n",
       "Name: age, dtype: int64"
      ]
     },
     "execution_count": 40,
     "metadata": {},
     "output_type": "execute_result"
    }
   ],
   "source": [
    "#Total number of ages(users) for a package\n",
    "df.groupby('package')['age'].count().sort_values(ascending=False).head()"
   ]
  },
  {
   "cell_type": "code",
   "execution_count": 70,
   "metadata": {},
   "outputs": [
    {
     "data": {
      "text/html": [
       "<div>\n",
       "<style scoped>\n",
       "    .dataframe tbody tr th:only-of-type {\n",
       "        vertical-align: middle;\n",
       "    }\n",
       "\n",
       "    .dataframe tbody tr th {\n",
       "        vertical-align: top;\n",
       "    }\n",
       "\n",
       "    .dataframe thead th {\n",
       "        text-align: right;\n",
       "    }\n",
       "</style>\n",
       "<table border=\"1\" class=\"dataframe\">\n",
       "  <thead>\n",
       "    <tr style=\"text-align: right;\">\n",
       "      <th></th>\n",
       "      <th>age</th>\n",
       "      <th>age_counts</th>\n",
       "    </tr>\n",
       "    <tr>\n",
       "      <th>package</th>\n",
       "      <th></th>\n",
       "      <th></th>\n",
       "    </tr>\n",
       "  </thead>\n",
       "  <tbody>\n",
       "    <tr>\n",
       "      <th>AOZM</th>\n",
       "      <td>48.571429</td>\n",
       "      <td>7</td>\n",
       "    </tr>\n",
       "    <tr>\n",
       "      <th>APIG</th>\n",
       "      <td>47.892989</td>\n",
       "      <td>271</td>\n",
       "    </tr>\n",
       "    <tr>\n",
       "      <th>ASTV</th>\n",
       "      <td>41.545455</td>\n",
       "      <td>11</td>\n",
       "    </tr>\n",
       "    <tr>\n",
       "      <th>AWDS</th>\n",
       "      <td>36.631579</td>\n",
       "      <td>19</td>\n",
       "    </tr>\n",
       "    <tr>\n",
       "      <th>B2W</th>\n",
       "      <td>42.501577</td>\n",
       "      <td>317</td>\n",
       "    </tr>\n",
       "    <tr>\n",
       "      <th>BCENG</th>\n",
       "      <td>47.600000</td>\n",
       "      <td>10</td>\n",
       "    </tr>\n",
       "    <tr>\n",
       "      <th>BCVA</th>\n",
       "      <td>44.142857</td>\n",
       "      <td>7</td>\n",
       "    </tr>\n",
       "    <tr>\n",
       "      <th>CBC</th>\n",
       "      <td>33.451613</td>\n",
       "      <td>31</td>\n",
       "    </tr>\n",
       "    <tr>\n",
       "      <th>CEYH</th>\n",
       "      <td>42.000000</td>\n",
       "      <td>1</td>\n",
       "    </tr>\n",
       "    <tr>\n",
       "      <th>CLBS</th>\n",
       "      <td>41.801980</td>\n",
       "      <td>101</td>\n",
       "    </tr>\n",
       "    <tr>\n",
       "      <th>CLT</th>\n",
       "      <td>31.556723</td>\n",
       "      <td>476</td>\n",
       "    </tr>\n",
       "    <tr>\n",
       "      <th>CNDG</th>\n",
       "      <td>44.500000</td>\n",
       "      <td>2</td>\n",
       "    </tr>\n",
       "    <tr>\n",
       "      <th>CNFT</th>\n",
       "      <td>39.000000</td>\n",
       "      <td>1</td>\n",
       "    </tr>\n",
       "    <tr>\n",
       "      <th>CRBT_CNT</th>\n",
       "      <td>42.397752</td>\n",
       "      <td>2313</td>\n",
       "    </tr>\n",
       "    <tr>\n",
       "      <th>CRBT_SRV</th>\n",
       "      <td>42.117377</td>\n",
       "      <td>2181</td>\n",
       "    </tr>\n",
       "    <tr>\n",
       "      <th>CSEU</th>\n",
       "      <td>29.000000</td>\n",
       "      <td>1</td>\n",
       "    </tr>\n",
       "    <tr>\n",
       "      <th>DAST</th>\n",
       "      <td>41.630952</td>\n",
       "      <td>84</td>\n",
       "    </tr>\n",
       "    <tr>\n",
       "      <th>DUPAK</th>\n",
       "      <td>35.140000</td>\n",
       "      <td>50</td>\n",
       "    </tr>\n",
       "    <tr>\n",
       "      <th>ECH</th>\n",
       "      <td>31.000000</td>\n",
       "      <td>1</td>\n",
       "    </tr>\n",
       "    <tr>\n",
       "      <th>EVVI</th>\n",
       "      <td>36.285714</td>\n",
       "      <td>14</td>\n",
       "    </tr>\n",
       "    <tr>\n",
       "      <th>FLS</th>\n",
       "      <td>39.450980</td>\n",
       "      <td>51</td>\n",
       "    </tr>\n",
       "    <tr>\n",
       "      <th>FUCF</th>\n",
       "      <td>39.500000</td>\n",
       "      <td>4</td>\n",
       "    </tr>\n",
       "    <tr>\n",
       "      <th>GAML</th>\n",
       "      <td>35.323741</td>\n",
       "      <td>139</td>\n",
       "    </tr>\n",
       "    <tr>\n",
       "      <th>GFCS</th>\n",
       "      <td>41.084746</td>\n",
       "      <td>59</td>\n",
       "    </tr>\n",
       "    <tr>\n",
       "      <th>GR5IVR</th>\n",
       "      <td>41.000000</td>\n",
       "      <td>1</td>\n",
       "    </tr>\n",
       "  </tbody>\n",
       "</table>\n",
       "</div>"
      ],
      "text/plain": [
       "                age  age_counts\n",
       "package                        \n",
       "AOZM      48.571429           7\n",
       "APIG      47.892989         271\n",
       "ASTV      41.545455          11\n",
       "AWDS      36.631579          19\n",
       "B2W       42.501577         317\n",
       "BCENG     47.600000          10\n",
       "BCVA      44.142857           7\n",
       "CBC       33.451613          31\n",
       "CEYH      42.000000           1\n",
       "CLBS      41.801980         101\n",
       "CLT       31.556723         476\n",
       "CNDG      44.500000           2\n",
       "CNFT      39.000000           1\n",
       "CRBT_CNT  42.397752        2313\n",
       "CRBT_SRV  42.117377        2181\n",
       "CSEU      29.000000           1\n",
       "DAST      41.630952          84\n",
       "DUPAK     35.140000          50\n",
       "ECH       31.000000           1\n",
       "EVVI      36.285714          14\n",
       "FLS       39.450980          51\n",
       "FUCF      39.500000           4\n",
       "GAML      35.323741         139\n",
       "GFCS      41.084746          59\n",
       "GR5IVR    41.000000           1"
      ]
     },
     "execution_count": 70,
     "metadata": {},
     "output_type": "execute_result"
    }
   ],
   "source": [
    "# plot a histogram for the number of ages/users represented by the \"age_counts\" column\n",
    "age_mean_count = pd.DataFrame(df.groupby('package')['age'].mean())\n",
    "age_mean_count['age_counts'] = pd.DataFrame(df.groupby('package')['age'].count())\n",
    "age_mean_count.head(25)"
   ]
  },
  {
   "cell_type": "code",
   "execution_count": 68,
   "metadata": {},
   "outputs": [
    {
     "data": {
      "text/plain": [
       "<AxesSubplot:>"
      ]
     },
     "execution_count": 68,
     "metadata": {},
     "output_type": "execute_result"
    },
    {
     "data": {
      "image/png": "[encoded data removed]",
      "text/plain": [
       "<Figure size 576x432 with 1 Axes>"
      ]
     },
     "metadata": {
      "needs_background": "light"
     },
     "output_type": "display_data"
    }
   ],
   "source": [
    "import matplotlib.pyplot as plt\n",
    "import seaborn as sns\n",
    "sns.set_style('dark')\n",
    "%matplotlib inline\n",
    "\n",
    "plt.figure(figsize=(8,6))\n",
    "\n",
    "\n",
    "plt.rcParams['patch.force_edgecolor'] = True\n",
    "age_mean_count['age_counts'].hist(bins=50)"
   ]
  },
  {
   "cell_type": "code",
   "execution_count": 51,
   "metadata": {},
   "outputs": [
    {
     "data": {
      "text/plain": [
       "<AxesSubplot:>"
      ]
     },
     "execution_count": 51,
     "metadata": {},
     "output_type": "execute_result"
    },
    {
     "data": {
      "image/png": "[encoded data removed]",
      "text/plain": [
       "<Figure size 576x432 with 1 Axes>"
      ]
     },
     "metadata": {
      "needs_background": "light"
     },
     "output_type": "display_data"
    }
   ],
   "source": [
    "plt.figure(figsize=(8,6))\n",
    "plt.rcParams['patch.force_edgecolor'] = True\n",
    "age_mean_count['age'].hist(bins=50)"
   ]
  },
  {
   "cell_type": "code",
   "execution_count": 52,
   "metadata": {},
   "outputs": [
    {
     "data": {
      "text/plain": [
       "<seaborn.axisgrid.JointGrid at 0x1cef1317c40>"
      ]
     },
     "execution_count": 52,
     "metadata": {},
     "output_type": "execute_result"
    },
    {
     "data": {
      "text/plain": [
       "<Figure size 576x432 with 0 Axes>"
      ]
     },
     "metadata": {},
     "output_type": "display_data"
    },
    {
     "data": {
      "image/png": "[encoded data removed]",
      "text/plain": [
       "<Figure size 432x432 with 3 Axes>"
      ]
     },
     "metadata": {
      "needs_background": "light"
     },
     "output_type": "display_data"
    }
   ],
   "source": [
    "plt.figure(figsize=(8,6))\n",
    "plt.rcParams['patch.force_edgecolor'] = True\n",
    "sns.jointplot(x='age', y='age_counts', data=age_mean_count, alpha=0.4)"
   ]
  },
  {
   "cell_type": "code",
   "execution_count": 62,
   "metadata": {},
   "outputs": [
    {
     "data": {
      "text/html": [
       "<div>\n",
       "<style scoped>\n",
       "    .dataframe tbody tr th:only-of-type {\n",
       "        vertical-align: middle;\n",
       "    }\n",
       "\n",
       "    .dataframe tbody tr th {\n",
       "        vertical-align: top;\n",
       "    }\n",
       "\n",
       "    .dataframe thead th {\n",
       "        text-align: right;\n",
       "    }\n",
       "</style>\n",
       "<table border=\"1\" class=\"dataframe\">\n",
       "  <thead>\n",
       "    <tr style=\"text-align: right;\">\n",
       "      <th>age</th>\n",
       "      <th>-5969</th>\n",
       "      <th>16</th>\n",
       "      <th>17</th>\n",
       "      <th>18</th>\n",
       "      <th>19</th>\n",
       "      <th>20</th>\n",
       "      <th>21</th>\n",
       "      <th>22</th>\n",
       "      <th>23</th>\n",
       "      <th>24</th>\n",
       "      <th>...</th>\n",
       "      <th>84</th>\n",
       "      <th>85</th>\n",
       "      <th>86</th>\n",
       "      <th>89</th>\n",
       "      <th>90</th>\n",
       "      <th>91</th>\n",
       "      <th>92</th>\n",
       "      <th>99</th>\n",
       "      <th>100</th>\n",
       "      <th>120</th>\n",
       "    </tr>\n",
       "    <tr>\n",
       "      <th>package</th>\n",
       "      <th></th>\n",
       "      <th></th>\n",
       "      <th></th>\n",
       "      <th></th>\n",
       "      <th></th>\n",
       "      <th></th>\n",
       "      <th></th>\n",
       "      <th></th>\n",
       "      <th></th>\n",
       "      <th></th>\n",
       "      <th></th>\n",
       "      <th></th>\n",
       "      <th></th>\n",
       "      <th></th>\n",
       "      <th></th>\n",
       "      <th></th>\n",
       "      <th></th>\n",
       "      <th></th>\n",
       "      <th></th>\n",
       "      <th></th>\n",
       "      <th></th>\n",
       "    </tr>\n",
       "  </thead>\n",
       "  <tbody>\n",
       "    <tr>\n",
       "      <th>AOZM</th>\n",
       "      <td>NaN</td>\n",
       "      <td>NaN</td>\n",
       "      <td>NaN</td>\n",
       "      <td>NaN</td>\n",
       "      <td>NaN</td>\n",
       "      <td>NaN</td>\n",
       "      <td>NaN</td>\n",
       "      <td>NaN</td>\n",
       "      <td>NaN</td>\n",
       "      <td>NaN</td>\n",
       "      <td>...</td>\n",
       "      <td>NaN</td>\n",
       "      <td>NaN</td>\n",
       "      <td>NaN</td>\n",
       "      <td>NaN</td>\n",
       "      <td>NaN</td>\n",
       "      <td>NaN</td>\n",
       "      <td>NaN</td>\n",
       "      <td>NaN</td>\n",
       "      <td>NaN</td>\n",
       "      <td>NaN</td>\n",
       "    </tr>\n",
       "    <tr>\n",
       "      <th>APIG</th>\n",
       "      <td>NaN</td>\n",
       "      <td>NaN</td>\n",
       "      <td>NaN</td>\n",
       "      <td>1.0</td>\n",
       "      <td>NaN</td>\n",
       "      <td>1.000000</td>\n",
       "      <td>NaN</td>\n",
       "      <td>0.00</td>\n",
       "      <td>1.0</td>\n",
       "      <td>0.75</td>\n",
       "      <td>...</td>\n",
       "      <td>1.0</td>\n",
       "      <td>NaN</td>\n",
       "      <td>NaN</td>\n",
       "      <td>NaN</td>\n",
       "      <td>NaN</td>\n",
       "      <td>NaN</td>\n",
       "      <td>1.0</td>\n",
       "      <td>NaN</td>\n",
       "      <td>NaN</td>\n",
       "      <td>NaN</td>\n",
       "    </tr>\n",
       "    <tr>\n",
       "      <th>ASTV</th>\n",
       "      <td>NaN</td>\n",
       "      <td>NaN</td>\n",
       "      <td>NaN</td>\n",
       "      <td>0.0</td>\n",
       "      <td>NaN</td>\n",
       "      <td>NaN</td>\n",
       "      <td>NaN</td>\n",
       "      <td>NaN</td>\n",
       "      <td>NaN</td>\n",
       "      <td>NaN</td>\n",
       "      <td>...</td>\n",
       "      <td>NaN</td>\n",
       "      <td>NaN</td>\n",
       "      <td>NaN</td>\n",
       "      <td>NaN</td>\n",
       "      <td>NaN</td>\n",
       "      <td>NaN</td>\n",
       "      <td>NaN</td>\n",
       "      <td>NaN</td>\n",
       "      <td>NaN</td>\n",
       "      <td>NaN</td>\n",
       "    </tr>\n",
       "    <tr>\n",
       "      <th>AWDS</th>\n",
       "      <td>NaN</td>\n",
       "      <td>NaN</td>\n",
       "      <td>NaN</td>\n",
       "      <td>NaN</td>\n",
       "      <td>NaN</td>\n",
       "      <td>NaN</td>\n",
       "      <td>NaN</td>\n",
       "      <td>NaN</td>\n",
       "      <td>0.0</td>\n",
       "      <td>0.00</td>\n",
       "      <td>...</td>\n",
       "      <td>NaN</td>\n",
       "      <td>NaN</td>\n",
       "      <td>NaN</td>\n",
       "      <td>NaN</td>\n",
       "      <td>NaN</td>\n",
       "      <td>NaN</td>\n",
       "      <td>NaN</td>\n",
       "      <td>NaN</td>\n",
       "      <td>NaN</td>\n",
       "      <td>NaN</td>\n",
       "    </tr>\n",
       "    <tr>\n",
       "      <th>B2W</th>\n",
       "      <td>NaN</td>\n",
       "      <td>NaN</td>\n",
       "      <td>NaN</td>\n",
       "      <td>1.0</td>\n",
       "      <td>0.666667</td>\n",
       "      <td>0.666667</td>\n",
       "      <td>NaN</td>\n",
       "      <td>1.00</td>\n",
       "      <td>1.0</td>\n",
       "      <td>0.50</td>\n",
       "      <td>...</td>\n",
       "      <td>NaN</td>\n",
       "      <td>NaN</td>\n",
       "      <td>NaN</td>\n",
       "      <td>NaN</td>\n",
       "      <td>NaN</td>\n",
       "      <td>NaN</td>\n",
       "      <td>NaN</td>\n",
       "      <td>NaN</td>\n",
       "      <td>NaN</td>\n",
       "      <td>NaN</td>\n",
       "    </tr>\n",
       "    <tr>\n",
       "      <th>BCENG</th>\n",
       "      <td>NaN</td>\n",
       "      <td>NaN</td>\n",
       "      <td>NaN</td>\n",
       "      <td>NaN</td>\n",
       "      <td>NaN</td>\n",
       "      <td>NaN</td>\n",
       "      <td>NaN</td>\n",
       "      <td>NaN</td>\n",
       "      <td>NaN</td>\n",
       "      <td>NaN</td>\n",
       "      <td>...</td>\n",
       "      <td>NaN</td>\n",
       "      <td>NaN</td>\n",
       "      <td>NaN</td>\n",
       "      <td>NaN</td>\n",
       "      <td>NaN</td>\n",
       "      <td>NaN</td>\n",
       "      <td>NaN</td>\n",
       "      <td>NaN</td>\n",
       "      <td>NaN</td>\n",
       "      <td>NaN</td>\n",
       "    </tr>\n",
       "    <tr>\n",
       "      <th>BCVA</th>\n",
       "      <td>NaN</td>\n",
       "      <td>NaN</td>\n",
       "      <td>NaN</td>\n",
       "      <td>NaN</td>\n",
       "      <td>NaN</td>\n",
       "      <td>NaN</td>\n",
       "      <td>NaN</td>\n",
       "      <td>NaN</td>\n",
       "      <td>NaN</td>\n",
       "      <td>NaN</td>\n",
       "      <td>...</td>\n",
       "      <td>NaN</td>\n",
       "      <td>NaN</td>\n",
       "      <td>NaN</td>\n",
       "      <td>NaN</td>\n",
       "      <td>NaN</td>\n",
       "      <td>NaN</td>\n",
       "      <td>NaN</td>\n",
       "      <td>NaN</td>\n",
       "      <td>NaN</td>\n",
       "      <td>NaN</td>\n",
       "    </tr>\n",
       "    <tr>\n",
       "      <th>CBC</th>\n",
       "      <td>NaN</td>\n",
       "      <td>NaN</td>\n",
       "      <td>NaN</td>\n",
       "      <td>NaN</td>\n",
       "      <td>NaN</td>\n",
       "      <td>0.000000</td>\n",
       "      <td>1.0</td>\n",
       "      <td>1.00</td>\n",
       "      <td>0.0</td>\n",
       "      <td>NaN</td>\n",
       "      <td>...</td>\n",
       "      <td>NaN</td>\n",
       "      <td>NaN</td>\n",
       "      <td>NaN</td>\n",
       "      <td>NaN</td>\n",
       "      <td>NaN</td>\n",
       "      <td>NaN</td>\n",
       "      <td>NaN</td>\n",
       "      <td>NaN</td>\n",
       "      <td>NaN</td>\n",
       "      <td>NaN</td>\n",
       "    </tr>\n",
       "    <tr>\n",
       "      <th>CEYH</th>\n",
       "      <td>NaN</td>\n",
       "      <td>NaN</td>\n",
       "      <td>NaN</td>\n",
       "      <td>NaN</td>\n",
       "      <td>NaN</td>\n",
       "      <td>NaN</td>\n",
       "      <td>NaN</td>\n",
       "      <td>NaN</td>\n",
       "      <td>NaN</td>\n",
       "      <td>NaN</td>\n",
       "      <td>...</td>\n",
       "      <td>NaN</td>\n",
       "      <td>NaN</td>\n",
       "      <td>NaN</td>\n",
       "      <td>NaN</td>\n",
       "      <td>NaN</td>\n",
       "      <td>NaN</td>\n",
       "      <td>NaN</td>\n",
       "      <td>NaN</td>\n",
       "      <td>NaN</td>\n",
       "      <td>NaN</td>\n",
       "    </tr>\n",
       "    <tr>\n",
       "      <th>CLBS</th>\n",
       "      <td>NaN</td>\n",
       "      <td>NaN</td>\n",
       "      <td>NaN</td>\n",
       "      <td>1.0</td>\n",
       "      <td>NaN</td>\n",
       "      <td>0.500000</td>\n",
       "      <td>1.0</td>\n",
       "      <td>0.75</td>\n",
       "      <td>0.5</td>\n",
       "      <td>1.00</td>\n",
       "      <td>...</td>\n",
       "      <td>NaN</td>\n",
       "      <td>NaN</td>\n",
       "      <td>NaN</td>\n",
       "      <td>NaN</td>\n",
       "      <td>NaN</td>\n",
       "      <td>NaN</td>\n",
       "      <td>NaN</td>\n",
       "      <td>NaN</td>\n",
       "      <td>NaN</td>\n",
       "      <td>NaN</td>\n",
       "    </tr>\n",
       "  </tbody>\n",
       "</table>\n",
       "<p>10 rows × 79 columns</p>\n",
       "</div>"
      ],
      "text/plain": [
       "age      -5969   16     17     18        19        20     21     22     23    \\\n",
       "package                                                                        \n",
       "AOZM       NaN    NaN    NaN    NaN       NaN       NaN    NaN    NaN    NaN   \n",
       "APIG       NaN    NaN    NaN    1.0       NaN  1.000000    NaN   0.00    1.0   \n",
       "ASTV       NaN    NaN    NaN    0.0       NaN       NaN    NaN    NaN    NaN   \n",
       "AWDS       NaN    NaN    NaN    NaN       NaN       NaN    NaN    NaN    0.0   \n",
       "B2W        NaN    NaN    NaN    1.0  0.666667  0.666667    NaN   1.00    1.0   \n",
       "BCENG      NaN    NaN    NaN    NaN       NaN       NaN    NaN    NaN    NaN   \n",
       "BCVA       NaN    NaN    NaN    NaN       NaN       NaN    NaN    NaN    NaN   \n",
       "CBC        NaN    NaN    NaN    NaN       NaN  0.000000    1.0   1.00    0.0   \n",
       "CEYH       NaN    NaN    NaN    NaN       NaN       NaN    NaN    NaN    NaN   \n",
       "CLBS       NaN    NaN    NaN    1.0       NaN  0.500000    1.0   0.75    0.5   \n",
       "\n",
       "age       24    ...   84     85     86     89     90     91     92     99    \\\n",
       "package         ...                                                           \n",
       "AOZM       NaN  ...    NaN    NaN    NaN    NaN    NaN    NaN    NaN    NaN   \n",
       "APIG      0.75  ...    1.0    NaN    NaN    NaN    NaN    NaN    1.0    NaN   \n",
       "ASTV       NaN  ...    NaN    NaN    NaN    NaN    NaN    NaN    NaN    NaN   \n",
       "AWDS      0.00  ...    NaN    NaN    NaN    NaN    NaN    NaN    NaN    NaN   \n",
       "B2W       0.50  ...    NaN    NaN    NaN    NaN    NaN    NaN    NaN    NaN   \n",
       "BCENG      NaN  ...    NaN    NaN    NaN    NaN    NaN    NaN    NaN    NaN   \n",
       "BCVA       NaN  ...    NaN    NaN    NaN    NaN    NaN    NaN    NaN    NaN   \n",
       "CBC        NaN  ...    NaN    NaN    NaN    NaN    NaN    NaN    NaN    NaN   \n",
       "CEYH       NaN  ...    NaN    NaN    NaN    NaN    NaN    NaN    NaN    NaN   \n",
       "CLBS      1.00  ...    NaN    NaN    NaN    NaN    NaN    NaN    NaN    NaN   \n",
       "\n",
       "age       100    120   \n",
       "package                \n",
       "AOZM       NaN    NaN  \n",
       "APIG       NaN    NaN  \n",
       "ASTV       NaN    NaN  \n",
       "AWDS       NaN    NaN  \n",
       "B2W        NaN    NaN  \n",
       "BCENG      NaN    NaN  \n",
       "BCVA       NaN    NaN  \n",
       "CBC        NaN    NaN  \n",
       "CEYH       NaN    NaN  \n",
       "CLBS       NaN    NaN  \n",
       "\n",
       "[10 rows x 79 columns]"
      ]
     },
     "execution_count": 62,
     "metadata": {},
     "output_type": "execute_result"
    }
   ],
   "source": [
    "user_package_age = df.pivot_table(index='package', columns='age', values='gender')\n",
    "user_package_age.head(10)"
   ]
  },
  {
   "cell_type": "code",
   "execution_count": 41,
   "metadata": {},
   "outputs": [
    {
     "data": {
      "text/plain": [
       "package\n",
       "CRBT_CNT    2313\n",
       "CRBT_SRV    2181\n",
       "MZIP         612\n",
       "CLT          476\n",
       "MHUNG        357\n",
       "Name: gender, dtype: int64"
      ]
     },
     "execution_count": 41,
     "metadata": {},
     "output_type": "execute_result"
    }
   ],
   "source": [
    "#Total number of users for a package\n",
    "df.groupby('package')['gender'].count().sort_values(ascending=False).head()"
   ]
  },
  {
   "cell_type": "code",
   "execution_count": 64,
   "metadata": {},
   "outputs": [
    {
     "data": {
      "text/html": [
       "<div>\n",
       "<style scoped>\n",
       "    .dataframe tbody tr th:only-of-type {\n",
       "        vertical-align: middle;\n",
       "    }\n",
       "\n",
       "    .dataframe tbody tr th {\n",
       "        vertical-align: top;\n",
       "    }\n",
       "\n",
       "    .dataframe thead th {\n",
       "        text-align: right;\n",
       "    }\n",
       "</style>\n",
       "<table border=\"1\" class=\"dataframe\">\n",
       "  <thead>\n",
       "    <tr style=\"text-align: right;\">\n",
       "      <th></th>\n",
       "      <th>gender</th>\n",
       "      <th>gender_counts</th>\n",
       "    </tr>\n",
       "    <tr>\n",
       "      <th>package</th>\n",
       "      <th></th>\n",
       "      <th></th>\n",
       "    </tr>\n",
       "  </thead>\n",
       "  <tbody>\n",
       "    <tr>\n",
       "      <th>AOZM</th>\n",
       "      <td>0.714286</td>\n",
       "      <td>7</td>\n",
       "    </tr>\n",
       "    <tr>\n",
       "      <th>APIG</th>\n",
       "      <td>0.708487</td>\n",
       "      <td>271</td>\n",
       "    </tr>\n",
       "    <tr>\n",
       "      <th>ASTV</th>\n",
       "      <td>0.636364</td>\n",
       "      <td>11</td>\n",
       "    </tr>\n",
       "    <tr>\n",
       "      <th>AWDS</th>\n",
       "      <td>0.684211</td>\n",
       "      <td>19</td>\n",
       "    </tr>\n",
       "    <tr>\n",
       "      <th>B2W</th>\n",
       "      <td>0.649842</td>\n",
       "      <td>317</td>\n",
       "    </tr>\n",
       "    <tr>\n",
       "      <th>BCENG</th>\n",
       "      <td>0.900000</td>\n",
       "      <td>10</td>\n",
       "    </tr>\n",
       "    <tr>\n",
       "      <th>BCVA</th>\n",
       "      <td>0.714286</td>\n",
       "      <td>7</td>\n",
       "    </tr>\n",
       "    <tr>\n",
       "      <th>CBC</th>\n",
       "      <td>0.580645</td>\n",
       "      <td>31</td>\n",
       "    </tr>\n",
       "    <tr>\n",
       "      <th>CEYH</th>\n",
       "      <td>1.000000</td>\n",
       "      <td>1</td>\n",
       "    </tr>\n",
       "    <tr>\n",
       "      <th>CLBS</th>\n",
       "      <td>0.663366</td>\n",
       "      <td>101</td>\n",
       "    </tr>\n",
       "  </tbody>\n",
       "</table>\n",
       "</div>"
      ],
      "text/plain": [
       "           gender  gender_counts\n",
       "package                         \n",
       "AOZM     0.714286              7\n",
       "APIG     0.708487            271\n",
       "ASTV     0.636364             11\n",
       "AWDS     0.684211             19\n",
       "B2W      0.649842            317\n",
       "BCENG    0.900000             10\n",
       "BCVA     0.714286              7\n",
       "CBC      0.580645             31\n",
       "CEYH     1.000000              1\n",
       "CLBS     0.663366            101"
      ]
     },
     "execution_count": 64,
     "metadata": {},
     "output_type": "execute_result"
    }
   ],
   "source": [
    "# plot a histogram for the number of gender/users represented by the \"gender_counts\" column\n",
    "gender_mean_count = pd.DataFrame(df.groupby('package')['gender'].mean())\n",
    "gender_mean_count['gender_counts'] = pd.DataFrame(df.groupby('package')['gender'].count())\n",
    "gender_mean_count.head(10)"
   ]
  },
  {
   "cell_type": "code",
   "execution_count": 63,
   "metadata": {},
   "outputs": [
    {
     "data": {
      "text/plain": [
       "<AxesSubplot:>"
      ]
     },
     "execution_count": 63,
     "metadata": {},
     "output_type": "execute_result"
    },
    {
     "data": {
      "image/png": "[encoded data removed]",
      "text/plain": [
       "<Figure size 576x432 with 1 Axes>"
      ]
     },
     "metadata": {
      "needs_background": "light"
     },
     "output_type": "display_data"
    }
   ],
   "source": [
    "import matplotlib.pyplot as plt\n",
    "import seaborn as sns\n",
    "sns.set_style('dark')\n",
    "%matplotlib inline\n",
    "\n",
    "plt.figure(figsize=(8,6))\n",
    "plt.rcParams['patch.force_edgecolor'] = True\n",
    "gender_mean_count['gender_counts'].hist(bins=50)"
   ]
  },
  {
   "cell_type": "code",
   "execution_count": null,
   "metadata": {},
   "outputs": [],
   "source": [
    "gender1, gender0 = df[df]"
   ]
  },
  {
   "cell_type": "code",
   "execution_count": 43,
   "metadata": {
    "scrolled": true
   },
   "outputs": [
    {
     "data": {
      "text/plain": [
       "package\n",
       "AOZM     1.530000\n",
       "APIG     3.882915\n",
       "ASTV     2.450000\n",
       "AWDS    11.020000\n",
       "B2W      5.631798\n",
       "Name: deducted_amt, dtype: float64"
      ]
     },
     "execution_count": 43,
     "metadata": {},
     "output_type": "execute_result"
    }
   ],
   "source": [
    "#Average deducted amount of each package\n",
    "df.groupby('package')['deducted_amt'].mean().head()"
   ]
  },
  {
   "cell_type": "code",
   "execution_count": 44,
   "metadata": {
    "scrolled": true
   },
   "outputs": [
    {
     "data": {
      "text/plain": [
       "package\n",
       "ECH        2625.000000\n",
       "CBC         148.203226\n",
       "GTNB         61.712000\n",
       "DUPAK        51.132800\n",
       "MPLEXTV      42.815410\n",
       "Name: deducted_amt, dtype: float64"
      ]
     },
     "execution_count": 44,
     "metadata": {},
     "output_type": "execute_result"
    }
   ],
   "source": [
    "#Sort the mean values of deducted amounts\n",
    "df.groupby('package')['deducted_amt'].mean().sort_values(ascending=False).head()"
   ]
  },
  {
   "cell_type": "code",
   "execution_count": 45,
   "metadata": {
    "scrolled": true
   },
   "outputs": [
    {
     "data": {
      "text/plain": [
       "package\n",
       "CRBT_CNT    2313\n",
       "CRBT_SRV    2181\n",
       "MZIP         612\n",
       "CLT          476\n",
       "MHUNG        357\n",
       "Name: deducted_amt, dtype: int64"
      ]
     },
     "execution_count": 45,
     "metadata": {},
     "output_type": "execute_result"
    }
   ],
   "source": [
    "# Total number of (deducted amounts)users for a package\n",
    "df.groupby('package')['deducted_amt'].count().sort_values(ascending=False).head()"
   ]
  }
 ],
 "metadata": {
  "kernelspec": {
   "display_name": "Python 3",
   "language": "python",
   "name": "python3"
  },
  "language_info": {
   "codemirror_mode": {
    "name": "ipython",
    "version": 3
   },
   "file_extension": ".py",
   "mimetype": "text/x-python",
   "name": "python",
   "nbconvert_exporter": "python",
   "pygments_lexer": "ipython3",
   "version": "3.8.5"
  }
 },
 "nbformat": 4,
 "nbformat_minor": 4
}
